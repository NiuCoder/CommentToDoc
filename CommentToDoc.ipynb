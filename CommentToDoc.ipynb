{
 "cells": [
  {
   "cell_type": "code",
   "execution_count": 1,
   "metadata": {
    "collapsed": true
   },
   "outputs": [],
   "source": [
    "# coding=utf-8\n",
    "import re\n",
    "from docx import Document\n",
    "from docx.shared import Inches\n",
    "from docx.shared import RGBColor\n",
    "import os"
   ]
  },
  {
   "cell_type": "code",
   "execution_count": 2,
   "metadata": {
    "collapsed": true
   },
   "outputs": [],
   "source": [
    "# 构建正则表达式\n",
    "fileNameStr = '文件名:\\s+(\\w+\\.h)'\n",
    "descStr = '描\\s?述:\\s+(\\w+模块)'\n",
    "patStr = '\\*\\s\\@name\\s+([^\\n]+)\\n\\*\\s\\@brief\\s+([^\\n]+)\\n((?:\\*\\s\\@param\\[in\\]\\s+[^\\n]+\\n)*)((?:\\*\\s\\@param\\[out\\]\\s+[^\\n]+\\n)*)' +\\\n",
    "'\\*\\s\\@return\\s+([^\\n]+)\\n\\*\\s\\@note\\s+([^\\n]+)\\n'+'.*\\/\\n'+'(\\w+\\s\\w+(?:[^;]*\\n?);)'\n",
    "inputStr = '\\@param\\[in\\]\\s+([^\\n]+)\\n'\n",
    "outputStr = '\\@param\\[out\\]\\s+([^\\n]+)\\n'\n",
    "conStr = '([\\w\\*]+)'"
   ]
  },
  {
   "cell_type": "code",
   "execution_count": 3,
   "metadata": {
    "collapsed": true
   },
   "outputs": [],
   "source": [
    "def iter_heading(paragraphs):\n",
    "    for paragraph in paragraphs:\n",
    "        isItHeading=re.match('Heading ([1-9])',paragraph.style.name)\n",
    "        if isItHeading:\n",
    "            yield int(isItHeading.groups()[0]),paragraph\n",
    "\n",
    "def addHeaderNumbering(document):\n",
    "    hNums=[0,0,0,0,0]\n",
    "    for index,hx in iter_heading(document.paragraphs):\n",
    "        # ---put zeroes below---\n",
    "        for i in range(index+1,5):\n",
    "            hNums[i]=0\n",
    "        # ---increment this---\n",
    "        hNums[index]+=1\n",
    "        # ---prepare the string---\n",
    "        hStr=\"\"\n",
    "        for i in range(1,index+1):\n",
    "            hStr+=\"%d.\"%hNums[i]\n",
    "        # ---add the numbering---\n",
    "        hx.text=hStr+\" \"+hx.text"
   ]
  },
  {
   "cell_type": "code",
   "execution_count": 4,
   "metadata": {
    "collapsed": true
   },
   "outputs": [],
   "source": [
    "# 遍历dicList写入doc\n",
    "def writeToDoc(desc,filename,modelname,dicList):\n",
    "    document = Document()\n",
    "    document.add_heading(modelname+'软件接口文档',0)\n",
    "    document.add_heading('', level = 1).add_run(modelname)\n",
    "    para_desc = document.add_paragraph(desc)\n",
    "    para_desc.paragraph_format.left_indent = Inches(0.5)\n",
    "    for dic in dicList:\n",
    "        document.add_heading('', level = 2).add_run(dic['name'])\n",
    "        document.add_paragraph('功能概述', style='List Number')\n",
    "        para_brief = document.add_paragraph(dic['brief'])\n",
    "        para_brief.paragraph_format.left_indent = Inches(0.5)\n",
    "        document.add_paragraph('函数原型', style='List Number')\n",
    "        para_pro = document.add_paragraph(dic['protype'])\n",
    "        para_pro.paragraph_format.left_indent = Inches(0.5)\n",
    "        document.add_paragraph('输入', style='List Number')\n",
    "        inrowNum = len(dic['input'])\n",
    "        if inrowNum > 0:\n",
    "            table = document.add_table(rows=1, cols=5)\n",
    "            table.style = 'Table Grid'\n",
    "            hdr_cells = table.rows[0].cells\n",
    "            hdr_cells[0].text = '序号'\n",
    "            hdr_cells[1].text = '名称'\n",
    "            hdr_cells[2].text = '类型'\n",
    "            hdr_cells[3].text = '含义'\n",
    "            hdr_cells[4].text = '说明'\n",
    "            for index,(ty,nam,dec) in enumerate(dic['input']):\n",
    "                row_cells = table.add_row().cells\n",
    "                row_cells[0].text = str(index+1)\n",
    "                row_cells[1].text = nam\n",
    "                row_cells[2].text = ty\n",
    "                row_cells[3].text = dec\n",
    "        else:\n",
    "            para_input = document.add_paragraph('无')\n",
    "            para_input.paragraph_format.left_indent = Inches(0.5)\n",
    "        document.add_paragraph('输出', style='List Number')\n",
    "        outrowNum = len(dic['output'])\n",
    "        if outrowNum > 0:\n",
    "            table = document.add_table(rows=1, cols=5)\n",
    "            table.style = 'Table Grid'\n",
    "            hdr_cells = table.rows[0].cells\n",
    "            hdr_cells[0].text = '序号'\n",
    "            hdr_cells[1].text = '名称'\n",
    "            hdr_cells[2].text = '类型'\n",
    "            hdr_cells[3].text = '含义'\n",
    "            hdr_cells[4].text = '说明'\n",
    "            for index,(ty,nam,dec) in enumerate(dic['output']):\n",
    "                row_cells = table.add_row().cells\n",
    "                row_cells[0].text = str(index+1)\n",
    "                row_cells[1].text = nam\n",
    "                row_cells[2].text = ty\n",
    "                row_cells[3].text = dec\n",
    "        else:\n",
    "            para_output = document.add_paragraph('无')\n",
    "            para_output.paragraph_format.left_indent = Inches(0.5)\n",
    "        document.add_paragraph('其他', style='List Number')\n",
    "        para_note = document.add_paragraph(dic['note'])\n",
    "        para_note.paragraph_format.left_indent = Inches(0.5)\n",
    "    addHeaderNumbering(document)\n",
    "    document.save(modelname+'软件接口文档'+'.docx')"
   ]
  },
  {
   "cell_type": "code",
   "execution_count": 8,
   "metadata": {
    "collapsed": true
   },
   "outputs": [],
   "source": [
    "def patMatch(content):\n",
    "    dicList = []\n",
    "    # 一级匹配\n",
    "    res = re.finditer(patStr, content)\n",
    "    # 填充字典\n",
    "    for mat in res:\n",
    "        # 字典中的元素分别是name,brief,input,output,return,note,protype\n",
    "        comm = {}\n",
    "        comm['name'] = mat.group(1)\n",
    "        comm['brief'] = mat.group(2)\n",
    "        inputRes = mat.group(3)\n",
    "        comm['input'] = []\n",
    "        if len(inputRes) != 0:\n",
    "            res2 = re.finditer(inputStr, inputRes)\n",
    "            for mat2 in res2:\n",
    "                if len(mat2.group(1)) != 0:\n",
    "                    res3 = re.finditer(conStr, mat2.group(1))\n",
    "                    inputDict = []\n",
    "                    for mat3 in res3:\n",
    "                        if mat3.group(1) != '无':\n",
    "                            inputDict.append(mat3.group(1))\n",
    "                    if len(inputDict) > 0:\n",
    "                        comm['input'].append(inputDict)\n",
    "        outputRes = mat.group(4)\n",
    "        comm['output'] = []\n",
    "        if len(outputRes) != 0:\n",
    "            res4 = re.finditer(outputStr, outputRes)\n",
    "            for mat4 in res4:\n",
    "                if len(mat4.group(1)) != 0:\n",
    "                    res5 = re.finditer(conStr, mat4.group(1))\n",
    "                    outputDict = []\n",
    "                    for mat5 in res5:\n",
    "                        if mat5.group(1) != '无':\n",
    "                            outputDict.append(mat5.group(1))\n",
    "                    if len(outputDict) > 0:\n",
    "                        comm['output'].append(outputDict)\n",
    "        comm['return'] = mat.group(5)\n",
    "        comm['note'] = mat.group(6)\n",
    "        comm['protype'] = mat.group(7)\n",
    "        dicList.append(comm)\n",
    "    return dicList"
   ]
  },
  {
   "cell_type": "code",
   "execution_count": 15,
   "metadata": {
    "collapsed": true,
    "scrolled": true
   },
   "outputs": [],
   "source": [
    "def commentToDoc():\n",
    "    # 读取文件\n",
    "    path = os.getcwd()\n",
    "    for file in os.listdir(path):\n",
    "        if not os.path.isdir(file) and os.path.splitext(file)[-1] == '.h':\n",
    "            fo = open(file,encoding='gbk',errors='ignore')\n",
    "            content = ''\n",
    "            for line in fo.readlines():\n",
    "                content += line\n",
    "            modelname = re.search(descStr, content).group(1)\n",
    "            desc = modelname+\"接口头文件:\"+file\n",
    "            dictList = []\n",
    "            dictList = patMatch(content)\n",
    "            if len(dictList) > 0:\n",
    "                writeToDoc(desc,file,modelname,dictList)"
   ]
  },
  {
   "cell_type": "code",
   "execution_count": 16,
   "metadata": {
    "scrolled": true
   },
   "outputs": [],
   "source": [
    "commentToDoc()"
   ]
  },
  {
   "cell_type": "code",
   "execution_count": null,
   "metadata": {
    "collapsed": true
   },
   "outputs": [],
   "source": []
  }
 ],
 "metadata": {
  "kernelspec": {
   "display_name": "Python 3",
   "language": "python",
   "name": "python3"
  },
  "language_info": {
   "codemirror_mode": {
    "name": "ipython",
    "version": 3
   },
   "file_extension": ".py",
   "mimetype": "text/x-python",
   "name": "python",
   "nbconvert_exporter": "python",
   "pygments_lexer": "ipython3",
   "version": "3.6.1"
  }
 },
 "nbformat": 4,
 "nbformat_minor": 2
}
